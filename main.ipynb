{
 "cells": [
  {
   "cell_type": "code",
   "execution_count": 20,
   "metadata": {},
   "outputs": [],
   "source": [
    "import time\n",
    "import csv\n",
    "from datetime import date\n",
    "\n",
    "def start_task():\n",
    "    return time.time()\n",
    "\n",
    "def end_task(start_time):\n",
    "    end_time = time.time()\n",
    "    elapsed_time = end_time - start_time\n",
    "    return elapsed_time\n",
    "\n",
    "def log_task(task_name, elapsed_time):\n",
    "    today = date.today()\n",
    "    with open('task_log.csv', 'a', newline='') as csvfile:\n",
    "        fieldnames = ['date', 'task_name', 'elapsed_time']\n",
    "        writer = csv.DictWriter(csvfile, fieldnames=fieldnames)\n",
    "        \n",
    "        writer.writerow({'date': today, 'task_name': task_name, 'elapsed_time': elapsed_time})\n",
    "\n",
    "\n"
   ]
  },
  {
   "cell_type": "code",
   "execution_count": 45,
   "metadata": {},
   "outputs": [],
   "source": [
    "import time\n",
    "import csv\n",
    "import pyautogui\n",
    "from datetime import date\n",
    "\n",
    "def monitor_buttons(start_button, submit_button, nrt_image):\n",
    "    print(\"Monitorando os botões 'Começar' e 'Submeter'...\")\n",
    "\n",
    "    while True:\n",
    "        start_button_location = pyautogui.locateOnScreen(start_button, confidence=0.8)\n",
    "        if start_button_location:\n",
    "            start_time = start_task()\n",
    "            print(\"Botão 'Começar' detectado. Iniciando tarefa...\")\n",
    "\n",
    "            while True:\n",
    "                submit_button_location = pyautogui.locateOnScreen(submit_button, confidence=0.8)\n",
    "                nrt_message = pyautogui.locateOnScreen(nrt_image, confidence=0.8)\n",
    "                if submit_button_location or nrt_message:\n",
    "                    elapsed_time = end_task(start_time)\n",
    "                    print(\"Botão 'Submeter' detectado. Finalizando tarefa...\")\n",
    "                    return elapsed_time\n",
    "\n",
    "        time.sleep(0.25)\n"
   ]
  },
  {
   "cell_type": "code",
   "execution_count": 49,
   "metadata": {},
   "outputs": [
    {
     "name": "stdout",
     "output_type": "stream",
     "text": [
      "Monitorando os botões 'Começar' e 'Submeter'...\n",
      "Botão 'Começar' detectado. Iniciando tarefa...\n",
      "Botão 'Submeter' detectado. Finalizando tarefa...\n",
      "Tempo gasto na Tarefa 1: 16.902336835861206 segundos\n",
      "Monitorando os botões 'Começar' e 'Submeter'...\n"
     ]
    }
   ],
   "source": [
    "#Roda a função continuamente o dia todo\n",
    "\n",
    "start_button = 'timer.png'\n",
    "submit_button = 'acquire_button.png'\n",
    "nrt_image = 'nrt.png'\n",
    "\n",
    "\n",
    "task_counter = 1\n",
    "\n",
    "while True:\n",
    "    task_name = f\"Tarefa {task_counter}\"\n",
    "    elapsed_time = monitor_buttons(start_button, submit_button, nrt_image)\n",
    "    print(f\"Tempo gasto na {task_name}: {elapsed_time} segundos\")\n",
    "    log_task(task_name, elapsed_time)\n",
    "\n",
    "    # Atualiza o contador e repete o processo para a próxima tarefa\n",
    "    task_counter += 1\n"
   ]
  },
  {
   "cell_type": "code",
   "execution_count": 41,
   "metadata": {},
   "outputs": [
    {
     "name": "stdout",
     "output_type": "stream",
     "text": [
      "Tempo gasto diário nas tarefas:\n",
      "2023-05-05: 0 h 3 m\n",
      "2023-05-06: 0 h 3 m\n",
      "Tempo gasto semanal nas tarefas:\n",
      "2023-04-30 - 2023-05-06: 0 h 6 m\n"
     ]
    }
   ],
   "source": [
    "def seconds_to_hours_minutes(seconds):\n",
    "    hours = int(seconds // 3600)\n",
    "    minutes = int((seconds % 3600) // 60)\n",
    "    return hours, minutes\n",
    "\n",
    "\n",
    "\n",
    "import csv\n",
    "from collections import defaultdict\n",
    "from datetime import datetime\n",
    "\n",
    "def sum_daily_tasks(file_name):\n",
    "    daily_tasks = defaultdict(float)\n",
    "\n",
    "    with open(file_name, 'r') as csvfile:\n",
    "        reader = csv.DictReader(csvfile)\n",
    "        \n",
    "        for row in reader:\n",
    "            day = row['date']\n",
    "            elapsed_time = float(row['elapsed_time'])\n",
    "            daily_tasks[day] += elapsed_time\n",
    "\n",
    "    return dict(daily_tasks)\n",
    "\n",
    "\n",
    "from datetime import date, timedelta\n",
    "\n",
    "def week_start_end(date_obj):\n",
    "    start = date_obj - timedelta(days=date_obj.weekday() + 1) # Encontra o domingo mais próximo (incluso)\n",
    "    end = start + timedelta(days=6) # Adiciona 6 dias para encontrar o sábado (incluso)\n",
    "    return start, end\n",
    "\n",
    "\n",
    "def sum_weekly_tasks(file_name):\n",
    "    weekly_tasks = defaultdict(float)\n",
    "    \n",
    "    with open(file_name, 'r') as csvfile:\n",
    "        reader = csv.DictReader(csvfile)\n",
    "        \n",
    "        for row in reader:\n",
    "            task_date = datetime.strptime(row['date'], \"%Y-%m-%d\").date()\n",
    "            start, end = week_start_end(task_date)\n",
    "            week_range = f\"{start} - {end}\"\n",
    "            elapsed_time = float(row['elapsed_time'])\n",
    "            weekly_tasks[week_range] += elapsed_time\n",
    "\n",
    "    return dict(weekly_tasks)\n",
    "\n",
    "\n",
    "\n",
    "# Exemplo de uso:\n",
    "\n",
    "task_log_file = 'task_log.csv'\n",
    "daily_tasks = sum_daily_tasks(task_log_file)\n",
    "\n",
    "print(\"Tempo gasto diário nas tarefas:\")\n",
    "for day, elapsed_time in daily_tasks.items():\n",
    "    hours, minutes = seconds_to_hours_minutes(elapsed_time)\n",
    "    print(f\"{day}: {hours} h {minutes} m\")\n",
    "\n",
    "task_log_file = 'task_log.csv'\n",
    "weekly_tasks = sum_weekly_tasks(task_log_file)\n",
    "\n",
    "print(\"Tempo gasto semanal nas tarefas:\")\n",
    "for week, elapsed_time in weekly_tasks.items():\n",
    "    hours, minutes = seconds_to_hours_minutes(elapsed_time)\n",
    "    print(f\"{week}: {hours} h {minutes} m\")\n",
    "\n",
    "\n"
   ]
  }
 ],
 "metadata": {
  "kernelspec": {
   "display_name": "Python 3.10.0 64-bit",
   "language": "python",
   "name": "python3"
  },
  "language_info": {
   "codemirror_mode": {
    "name": "ipython",
    "version": 3
   },
   "file_extension": ".py",
   "mimetype": "text/x-python",
   "name": "python",
   "nbconvert_exporter": "python",
   "pygments_lexer": "ipython3",
   "version": "3.10.0"
  },
  "orig_nbformat": 4,
  "vscode": {
   "interpreter": {
    "hash": "e5a9a7a72b5280cbf83748155792f0448efef6ec1c559ac525e5f1995db30a78"
   }
  }
 },
 "nbformat": 4,
 "nbformat_minor": 2
}
