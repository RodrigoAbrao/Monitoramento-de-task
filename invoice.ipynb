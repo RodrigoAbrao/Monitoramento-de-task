{
 "cells": [
  {
   "cell_type": "code",
   "execution_count": 23,
   "metadata": {},
   "outputs": [],
   "source": [
    "def mensagem_ao_usuario(message):\n",
    "    import tkinter as tk\n",
    "\n",
    "    # create a pop-up window\n",
    "    popup = tk.Tk()\n",
    "\n",
    "    popup.title(\"Ação do usuario\")\n",
    "\n",
    "    # create a label with the message text\n",
    "\n",
    "    label = tk.Label(popup, text=message)\n",
    "    label.pack(padx=80, pady=20)\n",
    "\n",
    "    # create a button to close the window\n",
    "    def close_popup():\n",
    "        popup.destroy()\n",
    "    button = tk.Button(popup, text=\"OK\", command=close_popup)\n",
    "    button.pack(padx=80, pady=20)\n",
    "\n",
    "    # center the window on the screen\n",
    "    windowWidth = popup.winfo_reqwidth()\n",
    "    windowHeight = popup.winfo_reqheight()\n",
    "    positionRight = int(popup.winfo_screenwidth()/2 - windowWidth/2)\n",
    "    positionDown = int(popup.winfo_screenheight()/2 - windowHeight/2)\n",
    "    popup.geometry(\"+{}+{}\".format(positionRight, positionDown))\n",
    "\n",
    "    # run the event loop\n",
    "    popup.mainloop()"
   ]
  },
  {
   "cell_type": "code",
   "execution_count": 3,
   "metadata": {},
   "outputs": [],
   "source": [
    "from selenium import webdriver\n",
    "from selenium.webdriver.common.by import By\n",
    "from selenium.webdriver.common.keys import Keys\n",
    "from selenium.webdriver.support.ui import Select\n",
    "import time\n",
    "import csv\n",
    "\n",
    "# create a new Chrome browser instance\n",
    "driver = webdriver.Firefox()\n",
    "\n",
    "# navigate to the website\n",
    "driver.get(\"https://connect.appen.com/qrp/core/vendors/yukon_home\")\n",
    "\n",
    "# wait for the page to load\n",
    "time.sleep(5)\n",
    "\n",
    "# enter login and password\n",
    "login = driver.find_element(By.XPATH, '//*[@id=\"username\"]')\n",
    "login.send_keys(\"engenharia.kira@gmail.com\")\n",
    "login = driver.find_element(By.XPATH, '//*[@id=\"password\"]')\n",
    "login.send_keys(\"Gfd0306?\")\n",
    "\n",
    "click_element_entrar = driver.find_element(By.XPATH, '//*[@id=\"kc-login\"]')\n",
    "click_element_entrar.click()\n",
    "\n",
    "# wait for the page to load\n",
    "time.sleep(5)\n",
    "\n",
    "message = 'Abre a pagina do invoice e clica no invoice do mês'\n",
    "mensagem_ao_usuario(message)"
   ]
  },
  {
   "cell_type": "code",
   "execution_count": 22,
   "metadata": {},
   "outputs": [],
   "source": [
    "from datetime import datetime\n",
    "\n",
    "def fill_invoice(file_name, driver):\n",
    "    # Lendo o arquivo CSV com as informações\n",
    "    with open(file_name, 'r') as csvfile:\n",
    "        reader = csv.DictReader(csvfile)\n",
    "        data = [row for row in reader]\n",
    "\n",
    "    for i, row in enumerate(data):\n",
    "        # Clicar no botão \"Add New Row\"\n",
    "        driver.find_element(By.NAME, 'addRow').click()\n",
    "        time.sleep(5)\n",
    "\n",
    "        # Encontrar a última linha adicionada\n",
    "        rows = driver.find_elements(By.CSS_SELECTOR, '.invoice-entry')\n",
    "        last_row = rows[-1]\n",
    "\n",
    "        # Converter a data para o formato mm/dd/yyyy\n",
    "        date_obj = datetime.strptime(row['date'], '%Y-%m-%d')\n",
    "        formatted_date = date_obj.strftime('%m/%d/%Y')\n",
    "\n",
    "        # Selecionar Type \"Regular\"\n",
    "        type_select = Select(last_row.find_element(By.CSS_SELECTOR, f'select[name=\"entries[{i}].type\"]'))\n",
    "        type_select.select_by_visible_text('Regular')\n",
    "\n",
    "        # Selecionar Project \"Yukon\"\n",
    "        project_select = Select(last_row.find_element(By.CSS_SELECTOR, f'select[name=\"entries[{i}].projectId\"]'))\n",
    "        project_select.select_by_visible_text('Yukon')\n",
    "\n",
    "        # Preencher campos da última linha\n",
    "        last_row.find_element(By.CSS_SELECTOR, f'input[name=\"entries[{i}].date\"]').send_keys(formatted_date)\n",
    "\n",
    "        # Escolher opções do campo \"Time Worked\"\n",
    "        hours_select = Select(last_row.find_element(By.CSS_SELECTOR, f'select[name=\"entries[{i}].hours\"]'))\n",
    "        hours_select.select_by_value(row['elapsed_time_hours'])\n",
    "\n",
    "        minutes_select = Select(last_row.find_element(By.CSS_SELECTOR, f'select[name=\"entries[{i}].minutes\"]'))\n",
    "        minutes_select.select_by_value(row['elapsed_time_minutes'])\n",
    "\n",
    "\n",
    "\n",
    "\n",
    "        time.sleep(2)  # Aguarde um pouco antes de adicionar a próxima linha\n",
    "\n",
    "    # Submeter o formulário\n",
    "    # ...\n",
    "\n"
   ]
  },
  {
   "cell_type": "code",
   "execution_count": null,
   "metadata": {},
   "outputs": [],
   "source": [
    "fill_invoice('converted_task_log.csv', driver)\n"
   ]
  }
 ],
 "metadata": {
  "kernelspec": {
   "display_name": "Python 3.10.0 64-bit",
   "language": "python",
   "name": "python3"
  },
  "language_info": {
   "codemirror_mode": {
    "name": "ipython",
    "version": 3
   },
   "file_extension": ".py",
   "mimetype": "text/x-python",
   "name": "python",
   "nbconvert_exporter": "python",
   "pygments_lexer": "ipython3",
   "version": "3.10.0"
  },
  "orig_nbformat": 4,
  "vscode": {
   "interpreter": {
    "hash": "e5a9a7a72b5280cbf83748155792f0448efef6ec1c559ac525e5f1995db30a78"
   }
  }
 },
 "nbformat": 4,
 "nbformat_minor": 2
}
